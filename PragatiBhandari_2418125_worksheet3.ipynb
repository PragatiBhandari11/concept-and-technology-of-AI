{
  "nbformat": 4,
  "nbformat_minor": 0,
  "metadata": {
    "colab": {
      "provenance": []
    },
    "kernelspec": {
      "name": "python3",
      "display_name": "Python 3"
    },
    "language_info": {
      "name": "python"
    }
  },
  "cells": [
    {
      "cell_type": "code",
      "source": [
        "import pandas as pd\n",
        "import numpy as np"
      ],
      "metadata": {
        "id": "qa-VBUthfVbT"
      },
      "execution_count": 2,
      "outputs": []
    },
    {
      "cell_type": "code",
      "source": [
        "\n",
        "df =pd.read_csv('/content/drive/MyDrive/concept of AI/Titanic-Dataset.csv')"
      ],
      "metadata": {
        "id": "HhiGUa4YgagH"
      },
      "execution_count": 3,
      "outputs": []
    },
    {
      "cell_type": "code",
      "source": [
        "#Task 3.1 Problem 1 - 1\n",
        "import pandas as pd\n",
        "\n",
        "\n",
        "fare = df[[\"Fare\"]]\n",
        "\n",
        "print(fare.head())"
      ],
      "metadata": {
        "colab": {
          "base_uri": "https://localhost:8080/"
        },
        "id": "MnjTXXg-iVEC",
        "outputId": "9044143c-94c2-491b-f208-abb943d08d64"
      },
      "execution_count": 5,
      "outputs": [
        {
          "output_type": "stream",
          "name": "stdout",
          "text": [
            "      Fare\n",
            "0   7.2500\n",
            "1  71.2833\n",
            "2   7.9250\n",
            "3  53.1000\n",
            "4   8.0500\n"
          ]
        }
      ]
    },
    {
      "cell_type": "code",
      "source": [
        "#Task 3.1 Problem 1 - 2\n",
        "\n",
        "\n",
        "class_age = df[[\"Pclass\", \"Age\"]]\n",
        "\n",
        "print(class_age.head())"
      ],
      "metadata": {
        "colab": {
          "base_uri": "https://localhost:8080/"
        },
        "id": "-elWVdWuiqey",
        "outputId": "c4418607-7bf0-4df8-da3a-bb87e56c9e2e"
      },
      "execution_count": 6,
      "outputs": [
        {
          "output_type": "stream",
          "name": "stdout",
          "text": [
            "   Pclass   Age\n",
            "0       3  22.0\n",
            "1       1  38.0\n",
            "2       3  26.0\n",
            "3       1  35.0\n",
            "4       3  35.0\n"
          ]
        }
      ]
    },
    {
      "cell_type": "code",
      "source": [
        "#Task 3.1 Problem 1 - 3\n",
        "\n",
        "survived_gender = df[[\"Survived\", \"Sex\"]]\n",
        "\n",
        "print(survived_gender.head())\n"
      ],
      "metadata": {
        "colab": {
          "base_uri": "https://localhost:8080/"
        },
        "id": "ahAICGlqi47K",
        "outputId": "1096a157-1919-4424-bdad-01c2c9a72880"
      },
      "execution_count": 7,
      "outputs": [
        {
          "output_type": "stream",
          "name": "stdout",
          "text": [
            "   Survived     Sex\n",
            "0         0    male\n",
            "1         1  female\n",
            "2         1  female\n",
            "3         1  female\n",
            "4         0    male\n"
          ]
        }
      ]
    },
    {
      "cell_type": "code",
      "source": [
        "#Task 3.1 Problem 2 - 1\n",
        "\n",
        "fare_gt_100 = df[df[\"Fare\"] > 100]\n",
        "\n",
        "print(fare_gt_100.head())"
      ],
      "metadata": {
        "colab": {
          "base_uri": "https://localhost:8080/"
        },
        "id": "RXos-O4CjEa2",
        "outputId": "52008242-ed1e-4c12-b5d7-5ac1a56c0061"
      },
      "execution_count": 8,
      "outputs": [
        {
          "output_type": "stream",
          "name": "stdout",
          "text": [
            "     PassengerId  Survived  Pclass  \\\n",
            "27            28         0       1   \n",
            "31            32         1       1   \n",
            "88            89         1       1   \n",
            "118          119         0       1   \n",
            "195          196         1       1   \n",
            "\n",
            "                                               Name     Sex   Age  SibSp  \\\n",
            "27                   Fortune, Mr. Charles Alexander    male  19.0      3   \n",
            "31   Spencer, Mrs. William Augustus (Marie Eugenie)  female   NaN      1   \n",
            "88                       Fortune, Miss. Mabel Helen  female  23.0      3   \n",
            "118                        Baxter, Mr. Quigg Edmond    male  24.0      0   \n",
            "195                            Lurette, Miss. Elise  female  58.0      0   \n",
            "\n",
            "     Parch    Ticket      Fare        Cabin Embarked  \n",
            "27       2     19950  263.0000  C23 C25 C27        S  \n",
            "31       0  PC 17569  146.5208          B78        C  \n",
            "88       2     19950  263.0000  C23 C25 C27        S  \n",
            "118      1  PC 17558  247.5208      B58 B60        C  \n",
            "195      0  PC 17569  146.5208          B80        C  \n"
          ]
        }
      ]
    },
    {
      "cell_type": "code",
      "source": [
        "#Task 3.1 Problem 2 - 2\n",
        "\n",
        "first_class = df[df[\"Pclass\"] == 1]\n",
        "\n",
        "print(first_class.head())"
      ],
      "metadata": {
        "colab": {
          "base_uri": "https://localhost:8080/"
        },
        "id": "9IrfabUEjRzp",
        "outputId": "cb490ea8-c088-471b-f052-9d9bfba93007"
      },
      "execution_count": 9,
      "outputs": [
        {
          "output_type": "stream",
          "name": "stdout",
          "text": [
            "    PassengerId  Survived  Pclass  \\\n",
            "1             2         1       1   \n",
            "3             4         1       1   \n",
            "6             7         0       1   \n",
            "11           12         1       1   \n",
            "23           24         1       1   \n",
            "\n",
            "                                                 Name     Sex   Age  SibSp  \\\n",
            "1   Cumings, Mrs. John Bradley (Florence Briggs Th...  female  38.0      1   \n",
            "3        Futrelle, Mrs. Jacques Heath (Lily May Peel)  female  35.0      1   \n",
            "6                             McCarthy, Mr. Timothy J    male  54.0      0   \n",
            "11                           Bonnell, Miss. Elizabeth  female  58.0      0   \n",
            "23                       Sloper, Mr. William Thompson    male  28.0      0   \n",
            "\n",
            "    Parch    Ticket     Fare Cabin Embarked  \n",
            "1       0  PC 17599  71.2833   C85        C  \n",
            "3       0    113803  53.1000  C123        S  \n",
            "6       0     17463  51.8625   E46        S  \n",
            "11      0    113783  26.5500  C103        S  \n",
            "23      0    113788  35.5000    A6        S  \n"
          ]
        }
      ]
    },
    {
      "cell_type": "code",
      "source": [
        "#Task 3.1 Problem 2 - 3\n",
        "\n",
        "female_under_18 = df[(df[\"Age\"] < 18) & (df[\"Sex\"] == \"female\")]\n",
        "\n",
        "print(female_under_18.head())"
      ],
      "metadata": {
        "colab": {
          "base_uri": "https://localhost:8080/"
        },
        "id": "WuG0tSFQjxcg",
        "outputId": "b7feadbf-a11b-4c82-ceaa-0b5f59b31b4f"
      },
      "execution_count": 10,
      "outputs": [
        {
          "output_type": "stream",
          "name": "stdout",
          "text": [
            "    PassengerId  Survived  Pclass                                  Name  \\\n",
            "9            10         1       2   Nasser, Mrs. Nicholas (Adele Achem)   \n",
            "10           11         1       3       Sandstrom, Miss. Marguerite Rut   \n",
            "14           15         0       3  Vestrom, Miss. Hulda Amanda Adolfina   \n",
            "22           23         1       3           McGowan, Miss. Anna \"Annie\"   \n",
            "24           25         0       3         Palsson, Miss. Torborg Danira   \n",
            "\n",
            "       Sex   Age  SibSp  Parch   Ticket     Fare Cabin Embarked  \n",
            "9   female  14.0      1      0   237736  30.0708   NaN        C  \n",
            "10  female   4.0      1      1  PP 9549  16.7000    G6        S  \n",
            "14  female  14.0      0      0   350406   7.8542   NaN        S  \n",
            "22  female  15.0      0      0   330923   8.0292   NaN        Q  \n",
            "24  female   8.0      3      1   349909  21.0750   NaN        S  \n"
          ]
        }
      ]
    },
    {
      "cell_type": "code",
      "source": [
        "#Task 3.1 Problem 2 - 3\n",
        "\n",
        "female_under_18 = df[(df[\"Age\"] < 18) & (df[\"Sex\"] == \"female\")]\n",
        "\n",
        "print(female_under_18.head())"
      ],
      "metadata": {
        "colab": {
          "base_uri": "https://localhost:8080/"
        },
        "id": "LQINcDlWj6so",
        "outputId": "a61a2c2b-1715-4fd1-e5d7-a7d8192a7eec"
      },
      "execution_count": 11,
      "outputs": [
        {
          "output_type": "stream",
          "name": "stdout",
          "text": [
            "    PassengerId  Survived  Pclass                                  Name  \\\n",
            "9            10         1       2   Nasser, Mrs. Nicholas (Adele Achem)   \n",
            "10           11         1       3       Sandstrom, Miss. Marguerite Rut   \n",
            "14           15         0       3  Vestrom, Miss. Hulda Amanda Adolfina   \n",
            "22           23         1       3           McGowan, Miss. Anna \"Annie\"   \n",
            "24           25         0       3         Palsson, Miss. Torborg Danira   \n",
            "\n",
            "       Sex   Age  SibSp  Parch   Ticket     Fare Cabin Embarked  \n",
            "9   female  14.0      1      0   237736  30.0708   NaN        C  \n",
            "10  female   4.0      1      1  PP 9549  16.7000    G6        S  \n",
            "14  female  14.0      0      0   350406   7.8542   NaN        S  \n",
            "22  female  15.0      0      0   330923   8.0292   NaN        Q  \n",
            "24  female   8.0      3      1   349909  21.0750   NaN        S  \n"
          ]
        }
      ]
    },
    {
      "cell_type": "code",
      "source": [
        "#Task 3.1 Problem 2 Subesetting row by categorial variables - 1\n",
        "\n",
        "embarked_c_or_s = df[(df[\"Embarked\"] == \"C\") | (df[\"Embarked\"] == \"S\")]\n",
        "\n",
        "print(embarked_c_or_s)"
      ],
      "metadata": {
        "colab": {
          "base_uri": "https://localhost:8080/"
        },
        "id": "Vf98Kq_9kbRH",
        "outputId": "dacbe4dd-a72f-4481-ea43-8fbb32cf5155"
      },
      "execution_count": 13,
      "outputs": [
        {
          "output_type": "stream",
          "name": "stdout",
          "text": [
            "     PassengerId  Survived  Pclass  \\\n",
            "0              1         0       3   \n",
            "1              2         1       1   \n",
            "2              3         1       3   \n",
            "3              4         1       1   \n",
            "4              5         0       3   \n",
            "..           ...       ...     ...   \n",
            "884          885         0       3   \n",
            "886          887         0       2   \n",
            "887          888         1       1   \n",
            "888          889         0       3   \n",
            "889          890         1       1   \n",
            "\n",
            "                                                  Name     Sex   Age  SibSp  \\\n",
            "0                              Braund, Mr. Owen Harris    male  22.0      1   \n",
            "1    Cumings, Mrs. John Bradley (Florence Briggs Th...  female  38.0      1   \n",
            "2                               Heikkinen, Miss. Laina  female  26.0      0   \n",
            "3         Futrelle, Mrs. Jacques Heath (Lily May Peel)  female  35.0      1   \n",
            "4                             Allen, Mr. William Henry    male  35.0      0   \n",
            "..                                                 ...     ...   ...    ...   \n",
            "884                             Sutehall, Mr. Henry Jr    male  25.0      0   \n",
            "886                              Montvila, Rev. Juozas    male  27.0      0   \n",
            "887                       Graham, Miss. Margaret Edith  female  19.0      0   \n",
            "888           Johnston, Miss. Catherine Helen \"Carrie\"  female   NaN      1   \n",
            "889                              Behr, Mr. Karl Howell    male  26.0      0   \n",
            "\n",
            "     Parch            Ticket     Fare Cabin Embarked  \n",
            "0        0         A/5 21171   7.2500   NaN        S  \n",
            "1        0          PC 17599  71.2833   C85        C  \n",
            "2        0  STON/O2. 3101282   7.9250   NaN        S  \n",
            "3        0            113803  53.1000  C123        S  \n",
            "4        0            373450   8.0500   NaN        S  \n",
            "..     ...               ...      ...   ...      ...  \n",
            "884      0   SOTON/OQ 392076   7.0500   NaN        S  \n",
            "886      0            211536  13.0000   NaN        S  \n",
            "887      0            112053  30.0000   B42        S  \n",
            "888      2        W./C. 6607  23.4500   NaN        S  \n",
            "889      0            111369  30.0000  C148        C  \n",
            "\n",
            "[812 rows x 12 columns]\n"
          ]
        }
      ]
    },
    {
      "cell_type": "code",
      "source": [
        "#Task 3.1 Problem 2 Subesetting row by categorial variables - 2\n",
        "\n",
        "first_second_class = df[df[\"Pclass\"].isin([1,2])]\n",
        "\n",
        "print(first_second_class)"
      ],
      "metadata": {
        "colab": {
          "base_uri": "https://localhost:8080/"
        },
        "id": "zb1XIk5bkgLM",
        "outputId": "46ad9fed-af8d-4cff-c0c2-c63dddf9d647"
      },
      "execution_count": 14,
      "outputs": [
        {
          "output_type": "stream",
          "name": "stdout",
          "text": [
            "     PassengerId  Survived  Pclass  \\\n",
            "1              2         1       1   \n",
            "3              4         1       1   \n",
            "6              7         0       1   \n",
            "9             10         1       2   \n",
            "11            12         1       1   \n",
            "..           ...       ...     ...   \n",
            "880          881         1       2   \n",
            "883          884         0       2   \n",
            "886          887         0       2   \n",
            "887          888         1       1   \n",
            "889          890         1       1   \n",
            "\n",
            "                                                  Name     Sex   Age  SibSp  \\\n",
            "1    Cumings, Mrs. John Bradley (Florence Briggs Th...  female  38.0      1   \n",
            "3         Futrelle, Mrs. Jacques Heath (Lily May Peel)  female  35.0      1   \n",
            "6                              McCarthy, Mr. Timothy J    male  54.0      0   \n",
            "9                  Nasser, Mrs. Nicholas (Adele Achem)  female  14.0      1   \n",
            "11                            Bonnell, Miss. Elizabeth  female  58.0      0   \n",
            "..                                                 ...     ...   ...    ...   \n",
            "880       Shelley, Mrs. William (Imanita Parrish Hall)  female  25.0      0   \n",
            "883                      Banfield, Mr. Frederick James    male  28.0      0   \n",
            "886                              Montvila, Rev. Juozas    male  27.0      0   \n",
            "887                       Graham, Miss. Margaret Edith  female  19.0      0   \n",
            "889                              Behr, Mr. Karl Howell    male  26.0      0   \n",
            "\n",
            "     Parch            Ticket     Fare Cabin Embarked  \n",
            "1        0          PC 17599  71.2833   C85        C  \n",
            "3        0            113803  53.1000  C123        S  \n",
            "6        0             17463  51.8625   E46        S  \n",
            "9        0            237736  30.0708   NaN        C  \n",
            "11       0            113783  26.5500  C103        S  \n",
            "..     ...               ...      ...   ...      ...  \n",
            "880      1            230433  26.0000   NaN        S  \n",
            "883      0  C.A./SOTON 34068  10.5000   NaN        S  \n",
            "886      0            211536  13.0000   NaN        S  \n",
            "887      0            112053  30.0000   B42        S  \n",
            "889      0            111369  30.0000  C148        C  \n",
            "\n",
            "[400 rows x 12 columns]\n"
          ]
        }
      ]
    },
    {
      "cell_type": "code",
      "source": [
        "#Task 3.2\n",
        "#Which passenger had the highest fare paid relative to their age?\n",
        "\n",
        "df['Age'] = df[\"Age\"].fillna(df['Age'].median())\n",
        "\n",
        "df['Fare_per_year'] = df['Fare'] / df['Age']\n",
        "\n",
        "high_fare_age = df[df['Fare_per_year'] > 5]\n",
        "\n",
        "high_fare_age_srt = high_fare_age.sort_values(by='Fare_per_year', ascending=False)\n",
        "\n",
        "result = high_fare_age_srt[['Name', 'Fare_per_year']]\n",
        "\n",
        "print(result)"
      ],
      "metadata": {
        "colab": {
          "base_uri": "https://localhost:8080/"
        },
        "id": "zJbSb2Nuky3m",
        "outputId": "0849365a-52f7-4f00-8ba3-56a87f223c4e"
      },
      "execution_count": 15,
      "outputs": [
        {
          "output_type": "stream",
          "name": "stdout",
          "text": [
            "                                               Name  Fare_per_year\n",
            "305                  Allison, Master. Hudson Trevor     164.728261\n",
            "297                    Allison, Miss. Helen Loraine      75.775000\n",
            "386                 Goodwin, Master. Sidney Leonard      46.900000\n",
            "164                    Panula, Master. Eino Viljami      39.687500\n",
            "183                       Becker, Master. Richard F      39.000000\n",
            "..                                              ...            ...\n",
            "348          Coutts, Master. William Loch \"William\"       5.300000\n",
            "31   Spencer, Mrs. William Augustus (Marie Eugenie)       5.232886\n",
            "205                      Strom, Miss. Telma Matilda       5.231250\n",
            "813              Andersson, Miss. Ebba Iris Alfrida       5.212500\n",
            "480                  Goodwin, Master. Harold Victor       5.211111\n",
            "\n",
            "[71 rows x 2 columns]\n"
          ]
        }
      ]
    },
    {
      "cell_type": "code",
      "source": [
        "#Task 3.2\n",
        "#Which adult male passenger (age ≥ 18 and Sex is ’male’) paid the highest fare relative to their class?\n",
        "\n",
        "df['Age'] = df[\"Age\"].fillna(df['Age'].median())\n",
        "\n",
        "df[\"Fare_per_class\"] = df[\"Fare\"] / df[\"Pclass\"]\n",
        "\n",
        "adult_males = df[(df['Age'] >= 18) & (df['Sex'] == 'male')]\n",
        "\n",
        "adult_males_srt = adult_males.sort_values(by='Fare_per_class', ascending=False)\n",
        "\n",
        "result = adult_males_srt[['Name', 'Age', 'Fare_per_class']]\n",
        "\n",
        "print(result)"
      ],
      "metadata": {
        "colab": {
          "base_uri": "https://localhost:8080/"
        },
        "id": "mvPvVazCk8lB",
        "outputId": "a91f2297-5e3b-4d96-bd91-5a00bf805cdb"
      },
      "execution_count": 16,
      "outputs": [
        {
          "output_type": "stream",
          "name": "stdout",
          "text": [
            "                                   Name   Age  Fare_per_class\n",
            "737              Lesurer, Mr. Gustave J  35.0        512.3292\n",
            "679  Cardeza, Mr. Thomas Drake Martinez  36.0        512.3292\n",
            "438                   Fortune, Mr. Mark  64.0        263.0000\n",
            "27       Fortune, Mr. Charles Alexander  19.0        263.0000\n",
            "118            Baxter, Mr. Quigg Edmond  24.0        247.5208\n",
            "..                                  ...   ...             ...\n",
            "806              Andrews, Mr. Thomas Jr  39.0          0.0000\n",
            "481    Frost, Mr. Anthony Wood \"Archie\"  28.0          0.0000\n",
            "413      Cunningham, Mr. Alfred Fleming  28.0          0.0000\n",
            "466               Campbell, Mr. William  28.0          0.0000\n",
            "271        Tornquist, Mr. William Henry  25.0          0.0000\n",
            "\n",
            "[519 rows x 3 columns]\n"
          ]
        }
      ]
    },
    {
      "cell_type": "code",
      "source": [
        "#Task 3.3\n",
        "#What percent of the total fare revenue came from each passenger class?\n",
        "#3.3-1\n",
        "total_fare = df['Fare'].sum()\n",
        "total_fare\n"
      ],
      "metadata": {
        "colab": {
          "base_uri": "https://localhost:8080/"
        },
        "id": "AMc4L8dZlz60",
        "outputId": "32106ae0-53aa-4764-8674-5608b6167f49"
      },
      "execution_count": 19,
      "outputs": [
        {
          "output_type": "execute_result",
          "data": {
            "text/plain": [
              "28693.9493"
            ]
          },
          "metadata": {},
          "execution_count": 19
        }
      ]
    },
    {
      "cell_type": "code",
      "source": [
        "#3.3-2\n",
        "first_class_fare = df[df['Pclass'] == 1]['Fare'].sum()\n",
        "first_class_fare\n"
      ],
      "metadata": {
        "colab": {
          "base_uri": "https://localhost:8080/"
        },
        "id": "1SMKCXz5lGeC",
        "outputId": "b523807c-9906-4970-f92f-02f99fc140c5"
      },
      "execution_count": 21,
      "outputs": [
        {
          "output_type": "execute_result",
          "data": {
            "text/plain": [
              "18177.4125"
            ]
          },
          "metadata": {},
          "execution_count": 21
        }
      ]
    },
    {
      "cell_type": "code",
      "source": [
        "#3.3-3\n",
        "second_class_fare = df[df['Pclass'] == 2]['Fare'].sum()\n",
        "second_class_fare\n",
        "\n",
        "third_class_fare = df[df['Pclass'] == 3]['Fare'].sum()\n",
        "third_class_fare\n"
      ],
      "metadata": {
        "colab": {
          "base_uri": "https://localhost:8080/"
        },
        "id": "1wPIAKnymbwr",
        "outputId": "40f0c666-4ec0-4233-e32a-9007abfd9e79"
      },
      "execution_count": 23,
      "outputs": [
        {
          "output_type": "execute_result",
          "data": {
            "text/plain": [
              "6714.6951"
            ]
          },
          "metadata": {},
          "execution_count": 23
        }
      ]
    },
    {
      "cell_type": "code",
      "source": [
        "#3.3-4\n",
        "\n",
        "fare_total = [first_class_fare, second_class_fare, third_class_fare]\n",
        "fare_total\n",
        "\n"
      ],
      "metadata": {
        "colab": {
          "base_uri": "https://localhost:8080/"
        },
        "id": "E2Dt8cTHmwM7",
        "outputId": "b0311b27-85fb-4eaa-ce41-13f39ece1fec"
      },
      "execution_count": 24,
      "outputs": [
        {
          "output_type": "execute_result",
          "data": {
            "text/plain": [
              "[63.349287718996564, 13.24962855496507, 23.401083726038365]"
            ]
          },
          "metadata": {},
          "execution_count": 24
        }
      ]
    },
    {
      "cell_type": "code",
      "source": [
        "#3.3-5\n",
        "proportion_of_fare = [(fare / total_fare) * 100 for fare in fare_total]\n",
        "proportion_of_fare"
      ],
      "metadata": {
        "colab": {
          "base_uri": "https://localhost:8080/"
        },
        "id": "vPdZfPosnAvJ",
        "outputId": "42849183-dc9b-4079-e6c2-1f64b8296eea"
      },
      "execution_count": 25,
      "outputs": [
        {
          "output_type": "execute_result",
          "data": {
            "text/plain": [
              "[63.349287718996564, 13.24962855496507, 23.401083726038365]"
            ]
          },
          "metadata": {},
          "execution_count": 25
        }
      ]
    },
    {
      "cell_type": "code",
      "source": [
        "#Task3.3\n",
        "#What percent of the total number of passengers on the Titanic belonged to each age group (e.g., child, adult, senior)?\n",
        "\n",
        "# 1.\n",
        "def categorize_age(age):\n",
        "    if age < 18:\n",
        "        return 'child'\n",
        "    elif age < 65:\n",
        "        return 'adult'\n",
        "    else:\n",
        "        return 'senior'\n",
        "\n",
        "df['age_group'] = df['Age'].apply(categorize_age)\n"
      ],
      "metadata": {
        "id": "OhVljWxznGSv"
      },
      "execution_count": 26,
      "outputs": []
    },
    {
      "cell_type": "code",
      "source": [
        "# 3.3\n",
        "# 2.\n",
        "\n",
        "total_passengers = len(df)\n",
        "total_passengers"
      ],
      "metadata": {
        "colab": {
          "base_uri": "https://localhost:8080/"
        },
        "id": "xjKcYdLCoHot",
        "outputId": "56c61c68-14cd-4773-d218-cfea81c378d2"
      },
      "execution_count": 27,
      "outputs": [
        {
          "output_type": "execute_result",
          "data": {
            "text/plain": [
              "891"
            ]
          },
          "metadata": {},
          "execution_count": 27
        }
      ]
    },
    {
      "cell_type": "code",
      "source": [
        "# 3.3\n",
        "# 3.\n",
        "count_age_group = df['Age'].value_counts()\n",
        "count_age_group"
      ],
      "metadata": {
        "colab": {
          "base_uri": "https://localhost:8080/",
          "height": 490
        },
        "id": "EnCqpxFSoKkq",
        "outputId": "1144fc7e-005f-441e-8a79-8c0b88bbbbb2"
      },
      "execution_count": 28,
      "outputs": [
        {
          "output_type": "execute_result",
          "data": {
            "text/plain": [
              "Age\n",
              "28.00    202\n",
              "24.00     30\n",
              "22.00     27\n",
              "18.00     26\n",
              "19.00     25\n",
              "        ... \n",
              "36.50      1\n",
              "55.50      1\n",
              "0.92       1\n",
              "23.50      1\n",
              "74.00      1\n",
              "Name: count, Length: 88, dtype: int64"
            ],
            "text/html": [
              "<div>\n",
              "<style scoped>\n",
              "    .dataframe tbody tr th:only-of-type {\n",
              "        vertical-align: middle;\n",
              "    }\n",
              "\n",
              "    .dataframe tbody tr th {\n",
              "        vertical-align: top;\n",
              "    }\n",
              "\n",
              "    .dataframe thead th {\n",
              "        text-align: right;\n",
              "    }\n",
              "</style>\n",
              "<table border=\"1\" class=\"dataframe\">\n",
              "  <thead>\n",
              "    <tr style=\"text-align: right;\">\n",
              "      <th></th>\n",
              "      <th>count</th>\n",
              "    </tr>\n",
              "    <tr>\n",
              "      <th>Age</th>\n",
              "      <th></th>\n",
              "    </tr>\n",
              "  </thead>\n",
              "  <tbody>\n",
              "    <tr>\n",
              "      <th>28.00</th>\n",
              "      <td>202</td>\n",
              "    </tr>\n",
              "    <tr>\n",
              "      <th>24.00</th>\n",
              "      <td>30</td>\n",
              "    </tr>\n",
              "    <tr>\n",
              "      <th>22.00</th>\n",
              "      <td>27</td>\n",
              "    </tr>\n",
              "    <tr>\n",
              "      <th>18.00</th>\n",
              "      <td>26</td>\n",
              "    </tr>\n",
              "    <tr>\n",
              "      <th>19.00</th>\n",
              "      <td>25</td>\n",
              "    </tr>\n",
              "    <tr>\n",
              "      <th>...</th>\n",
              "      <td>...</td>\n",
              "    </tr>\n",
              "    <tr>\n",
              "      <th>36.50</th>\n",
              "      <td>1</td>\n",
              "    </tr>\n",
              "    <tr>\n",
              "      <th>55.50</th>\n",
              "      <td>1</td>\n",
              "    </tr>\n",
              "    <tr>\n",
              "      <th>0.92</th>\n",
              "      <td>1</td>\n",
              "    </tr>\n",
              "    <tr>\n",
              "      <th>23.50</th>\n",
              "      <td>1</td>\n",
              "    </tr>\n",
              "    <tr>\n",
              "      <th>74.00</th>\n",
              "      <td>1</td>\n",
              "    </tr>\n",
              "  </tbody>\n",
              "</table>\n",
              "<p>88 rows × 1 columns</p>\n",
              "</div><br><label><b>dtype:</b> int64</label>"
            ]
          },
          "metadata": {},
          "execution_count": 28
        }
      ]
    },
    {
      "cell_type": "code",
      "source": [
        "# 3.3\n",
        "# 4.\n",
        "age_group_proportions = (count_age_group / total_passengers) * 100\n",
        "age_group_proportions"
      ],
      "metadata": {
        "colab": {
          "base_uri": "https://localhost:8080/",
          "height": 490
        },
        "id": "kS05FMTJoNdk",
        "outputId": "17f2eaad-90ad-47bf-eb0e-e7fbfdaec666"
      },
      "execution_count": 29,
      "outputs": [
        {
          "output_type": "execute_result",
          "data": {
            "text/plain": [
              "Age\n",
              "28.00    22.671156\n",
              "24.00     3.367003\n",
              "22.00     3.030303\n",
              "18.00     2.918070\n",
              "19.00     2.805836\n",
              "           ...    \n",
              "36.50     0.112233\n",
              "55.50     0.112233\n",
              "0.92      0.112233\n",
              "23.50     0.112233\n",
              "74.00     0.112233\n",
              "Name: count, Length: 88, dtype: float64"
            ],
            "text/html": [
              "<div>\n",
              "<style scoped>\n",
              "    .dataframe tbody tr th:only-of-type {\n",
              "        vertical-align: middle;\n",
              "    }\n",
              "\n",
              "    .dataframe tbody tr th {\n",
              "        vertical-align: top;\n",
              "    }\n",
              "\n",
              "    .dataframe thead th {\n",
              "        text-align: right;\n",
              "    }\n",
              "</style>\n",
              "<table border=\"1\" class=\"dataframe\">\n",
              "  <thead>\n",
              "    <tr style=\"text-align: right;\">\n",
              "      <th></th>\n",
              "      <th>count</th>\n",
              "    </tr>\n",
              "    <tr>\n",
              "      <th>Age</th>\n",
              "      <th></th>\n",
              "    </tr>\n",
              "  </thead>\n",
              "  <tbody>\n",
              "    <tr>\n",
              "      <th>28.00</th>\n",
              "      <td>22.671156</td>\n",
              "    </tr>\n",
              "    <tr>\n",
              "      <th>24.00</th>\n",
              "      <td>3.367003</td>\n",
              "    </tr>\n",
              "    <tr>\n",
              "      <th>22.00</th>\n",
              "      <td>3.030303</td>\n",
              "    </tr>\n",
              "    <tr>\n",
              "      <th>18.00</th>\n",
              "      <td>2.918070</td>\n",
              "    </tr>\n",
              "    <tr>\n",
              "      <th>19.00</th>\n",
              "      <td>2.805836</td>\n",
              "    </tr>\n",
              "    <tr>\n",
              "      <th>...</th>\n",
              "      <td>...</td>\n",
              "    </tr>\n",
              "    <tr>\n",
              "      <th>36.50</th>\n",
              "      <td>0.112233</td>\n",
              "    </tr>\n",
              "    <tr>\n",
              "      <th>55.50</th>\n",
              "      <td>0.112233</td>\n",
              "    </tr>\n",
              "    <tr>\n",
              "      <th>0.92</th>\n",
              "      <td>0.112233</td>\n",
              "    </tr>\n",
              "    <tr>\n",
              "      <th>23.50</th>\n",
              "      <td>0.112233</td>\n",
              "    </tr>\n",
              "    <tr>\n",
              "      <th>74.00</th>\n",
              "      <td>0.112233</td>\n",
              "    </tr>\n",
              "  </tbody>\n",
              "</table>\n",
              "<p>88 rows × 1 columns</p>\n",
              "</div><br><label><b>dtype:</b> float64</label>"
            ]
          },
          "metadata": {},
          "execution_count": 29
        }
      ]
    },
    {
      "cell_type": "code",
      "source": [
        "# 3.3\n",
        "# 5.\n",
        "for group, proportion in age_group_proportions.items():\n",
        "    print(f\"{str(group).capitalize()}: {proportion:.2f}%\")"
      ],
      "metadata": {
        "colab": {
          "base_uri": "https://localhost:8080/"
        },
        "id": "HGT0i6kXoSWK",
        "outputId": "6d710790-2fee-4807-b02e-7c69a1c2a472"
      },
      "execution_count": 30,
      "outputs": [
        {
          "output_type": "stream",
          "name": "stdout",
          "text": [
            "28.0: 22.67%\n",
            "24.0: 3.37%\n",
            "22.0: 3.03%\n",
            "18.0: 2.92%\n",
            "19.0: 2.81%\n",
            "30.0: 2.81%\n",
            "21.0: 2.69%\n",
            "25.0: 2.58%\n",
            "36.0: 2.47%\n",
            "29.0: 2.24%\n",
            "35.0: 2.02%\n",
            "26.0: 2.02%\n",
            "27.0: 2.02%\n",
            "32.0: 2.02%\n",
            "16.0: 1.91%\n",
            "31.0: 1.91%\n",
            "34.0: 1.68%\n",
            "20.0: 1.68%\n",
            "33.0: 1.68%\n",
            "23.0: 1.68%\n",
            "39.0: 1.57%\n",
            "40.0: 1.46%\n",
            "17.0: 1.46%\n",
            "42.0: 1.46%\n",
            "45.0: 1.35%\n",
            "38.0: 1.23%\n",
            "50.0: 1.12%\n",
            "2.0: 1.12%\n",
            "4.0: 1.12%\n",
            "44.0: 1.01%\n",
            "48.0: 1.01%\n",
            "47.0: 1.01%\n",
            "54.0: 0.90%\n",
            "9.0: 0.90%\n",
            "1.0: 0.79%\n",
            "51.0: 0.79%\n",
            "14.0: 0.67%\n",
            "52.0: 0.67%\n",
            "37.0: 0.67%\n",
            "49.0: 0.67%\n",
            "41.0: 0.67%\n",
            "3.0: 0.67%\n",
            "58.0: 0.56%\n",
            "15.0: 0.56%\n",
            "43.0: 0.56%\n",
            "62.0: 0.45%\n",
            "56.0: 0.45%\n",
            "5.0: 0.45%\n",
            "11.0: 0.45%\n",
            "60.0: 0.45%\n",
            "8.0: 0.45%\n",
            "6.0: 0.34%\n",
            "46.0: 0.34%\n",
            "61.0: 0.34%\n",
            "65.0: 0.34%\n",
            "7.0: 0.34%\n",
            "10.0: 0.22%\n",
            "64.0: 0.22%\n",
            "13.0: 0.22%\n",
            "63.0: 0.22%\n",
            "30.5: 0.22%\n",
            "57.0: 0.22%\n",
            "70.0: 0.22%\n",
            "0.75: 0.22%\n",
            "71.0: 0.22%\n",
            "59.0: 0.22%\n",
            "0.83: 0.22%\n",
            "40.5: 0.22%\n",
            "55.0: 0.22%\n",
            "32.5: 0.22%\n",
            "28.5: 0.22%\n",
            "45.5: 0.22%\n",
            "34.5: 0.11%\n",
            "0.42: 0.11%\n",
            "0.67: 0.11%\n",
            "66.0: 0.11%\n",
            "24.5: 0.11%\n",
            "80.0: 0.11%\n",
            "20.5: 0.11%\n",
            "53.0: 0.11%\n",
            "14.5: 0.11%\n",
            "70.5: 0.11%\n",
            "12.0: 0.11%\n",
            "36.5: 0.11%\n",
            "55.5: 0.11%\n",
            "0.92: 0.11%\n",
            "23.5: 0.11%\n",
            "74.0: 0.11%\n"
          ]
        }
      ]
    },
    {
      "cell_type": "code",
      "source": [],
      "metadata": {
        "id": "auSqUXZioV_p"
      },
      "execution_count": null,
      "outputs": []
    }
  ]
}